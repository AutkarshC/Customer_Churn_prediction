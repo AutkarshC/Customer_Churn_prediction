{
 "cells": [
  {
   "cell_type": "code",
   "execution_count": 1,
   "metadata": {},
   "outputs": [],
   "source": [
    "import pandas as pd\n",
    "import numpy as np \n",
    "import seaborn as sns\n",
    "import scipy.stats as stats\n",
    "import matplotlib.pyplot as plt\n",
    "%matplotlib inline"
   ]
  },
  {
   "cell_type": "code",
   "execution_count": 2,
   "metadata": {},
   "outputs": [
    {
     "data": {
      "text/html": [
       "<div>\n",
       "<style scoped>\n",
       "    .dataframe tbody tr th:only-of-type {\n",
       "        vertical-align: middle;\n",
       "    }\n",
       "\n",
       "    .dataframe tbody tr th {\n",
       "        vertical-align: top;\n",
       "    }\n",
       "\n",
       "    .dataframe thead th {\n",
       "        text-align: right;\n",
       "    }\n",
       "</style>\n",
       "<table border=\"1\" class=\"dataframe\">\n",
       "  <thead>\n",
       "    <tr style=\"text-align: right;\">\n",
       "      <th></th>\n",
       "      <th>user_id</th>\n",
       "      <th>apm</th>\n",
       "      <th>income</th>\n",
       "      <th>height</th>\n",
       "      <th>reaction_time</th>\n",
       "      <th>age</th>\n",
       "      <th>kappa_ability</th>\n",
       "      <th>weight</th>\n",
       "      <th>amount</th>\n",
       "      <th>gregariousness</th>\n",
       "      <th>favorite_pizza_topping_Not_NA</th>\n",
       "      <th>grade_Not_NA</th>\n",
       "      <th>city_Not_NA</th>\n",
       "      <th>favorite_ice_cream_flavor_Not_NA</th>\n",
       "      <th>company_Not_NA</th>\n",
       "      <th>account_verified</th>\n",
       "      <th>product_use</th>\n",
       "      <th>product_visit</th>\n",
       "      <th>churn</th>\n",
       "    </tr>\n",
       "  </thead>\n",
       "  <tbody>\n",
       "    <tr>\n",
       "      <th>0</th>\n",
       "      <td>78389</td>\n",
       "      <td>154</td>\n",
       "      <td>100</td>\n",
       "      <td>176</td>\n",
       "      <td>353</td>\n",
       "      <td>47</td>\n",
       "      <td>6291</td>\n",
       "      <td>149</td>\n",
       "      <td>10</td>\n",
       "      <td>48</td>\n",
       "      <td>Pineapple</td>\n",
       "      <td>Z</td>\n",
       "      <td>A-town</td>\n",
       "      <td>Red Velvet</td>\n",
       "      <td>Pause Associates</td>\n",
       "      <td>0</td>\n",
       "      <td>23</td>\n",
       "      <td>91</td>\n",
       "      <td>0</td>\n",
       "    </tr>\n",
       "    <tr>\n",
       "      <th>1</th>\n",
       "      <td>79235</td>\n",
       "      <td>193</td>\n",
       "      <td>95</td>\n",
       "      <td>182</td>\n",
       "      <td>250</td>\n",
       "      <td>20</td>\n",
       "      <td>4765</td>\n",
       "      <td>-234</td>\n",
       "      <td>19</td>\n",
       "      <td>62</td>\n",
       "      <td>Ham</td>\n",
       "      <td>Y</td>\n",
       "      <td>C-borough</td>\n",
       "      <td>Red Velvet</td>\n",
       "      <td>Go LLC</td>\n",
       "      <td>7</td>\n",
       "      <td>35</td>\n",
       "      <td>44</td>\n",
       "      <td>0</td>\n",
       "    </tr>\n",
       "    <tr>\n",
       "      <th>2</th>\n",
       "      <td>78816</td>\n",
       "      <td>180</td>\n",
       "      <td>97</td>\n",
       "      <td>177</td>\n",
       "      <td>311</td>\n",
       "      <td>67</td>\n",
       "      <td>4360</td>\n",
       "      <td>145</td>\n",
       "      <td>41</td>\n",
       "      <td>57</td>\n",
       "      <td>Pineapple</td>\n",
       "      <td>Z</td>\n",
       "      <td>A-town</td>\n",
       "      <td>Strawberry</td>\n",
       "      <td>Pause Associates</td>\n",
       "      <td>0</td>\n",
       "      <td>0</td>\n",
       "      <td>81</td>\n",
       "      <td>0</td>\n",
       "    </tr>\n",
       "    <tr>\n",
       "      <th>3</th>\n",
       "      <td>78961</td>\n",
       "      <td>168</td>\n",
       "      <td>99</td>\n",
       "      <td>184</td>\n",
       "      <td>320</td>\n",
       "      <td>48</td>\n",
       "      <td>3663</td>\n",
       "      <td>148</td>\n",
       "      <td>105</td>\n",
       "      <td>43</td>\n",
       "      <td>Black olives</td>\n",
       "      <td>Z</td>\n",
       "      <td>A-town</td>\n",
       "      <td>Peach</td>\n",
       "      <td>Pause Associates</td>\n",
       "      <td>0</td>\n",
       "      <td>0</td>\n",
       "      <td>83</td>\n",
       "      <td>0</td>\n",
       "    </tr>\n",
       "    <tr>\n",
       "      <th>4</th>\n",
       "      <td>78427</td>\n",
       "      <td>207</td>\n",
       "      <td>105</td>\n",
       "      <td>999</td>\n",
       "      <td>329</td>\n",
       "      <td>35</td>\n",
       "      <td>149</td>\n",
       "      <td>146</td>\n",
       "      <td>53</td>\n",
       "      <td>58</td>\n",
       "      <td>Red peppers</td>\n",
       "      <td>X</td>\n",
       "      <td>A-town</td>\n",
       "      <td>Red Velvet</td>\n",
       "      <td>Pause Associates</td>\n",
       "      <td>0</td>\n",
       "      <td>28</td>\n",
       "      <td>20</td>\n",
       "      <td>0</td>\n",
       "    </tr>\n",
       "  </tbody>\n",
       "</table>\n",
       "</div>"
      ],
      "text/plain": [
       "   user_id  apm  income  height  reaction_time  age  kappa_ability  weight  \\\n",
       "0    78389  154     100     176            353   47           6291     149   \n",
       "1    79235  193      95     182            250   20           4765    -234   \n",
       "2    78816  180      97     177            311   67           4360     145   \n",
       "3    78961  168      99     184            320   48           3663     148   \n",
       "4    78427  207     105     999            329   35            149     146   \n",
       "\n",
       "   amount  gregariousness favorite_pizza_topping_Not_NA grade_Not_NA  \\\n",
       "0      10              48                     Pineapple            Z   \n",
       "1      19              62                           Ham            Y   \n",
       "2      41              57                     Pineapple            Z   \n",
       "3     105              43                  Black olives            Z   \n",
       "4      53              58                   Red peppers            X   \n",
       "\n",
       "  city_Not_NA favorite_ice_cream_flavor_Not_NA    company_Not_NA  \\\n",
       "0      A-town                       Red Velvet  Pause Associates   \n",
       "1   C-borough                       Red Velvet            Go LLC   \n",
       "2      A-town                       Strawberry  Pause Associates   \n",
       "3      A-town                            Peach  Pause Associates   \n",
       "4      A-town                       Red Velvet  Pause Associates   \n",
       "\n",
       "   account_verified  product_use  product_visit  churn  \n",
       "0                 0           23             91      0  \n",
       "1                 7           35             44      0  \n",
       "2                 0            0             81      0  \n",
       "3                 0            0             83      0  \n",
       "4                 0           28             20      0  "
      ]
     },
     "execution_count": 2,
     "metadata": {},
     "output_type": "execute_result"
    }
   ],
   "source": [
    "df = pd.read_csv(\"Cleaned_Customer_churn.csv\")\n",
    "df.head()"
   ]
  },
  {
   "cell_type": "markdown",
   "metadata": {},
   "source": [
    "# Checking for Outliers"
   ]
  },
  {
   "cell_type": "code",
   "execution_count": 3,
   "metadata": {},
   "outputs": [],
   "source": [
    "columns = ['apm','income','height','reaction_time','age','weight','gregariousness']"
   ]
  },
  {
   "cell_type": "code",
   "execution_count": 4,
   "metadata": {},
   "outputs": [
    {
     "data": {
      "image/png": "[encoded data removed]",
      "text/plain": [
       "<Figure size 720x360 with 1 Axes>"
      ]
     },
     "metadata": {
      "needs_background": "light"
     },
     "output_type": "display_data"
    },
    {
     "data": {
      "image/png": "[encoded data removed]",
      "text/plain": [
       "<Figure size 720x360 with 1 Axes>"
      ]
     },
     "metadata": {
      "needs_background": "light"
     },
     "output_type": "display_data"
    },
    {
     "data": {
      "image/png": "[encoded data removed]",
      "text/plain": [
       "<Figure size 720x360 with 1 Axes>"
      ]
     },
     "metadata": {
      "needs_background": "light"
     },
     "output_type": "display_data"
    },
    {
     "data": {
      "image/png": "[encoded data removed]",
      "text/plain": [
       "<Figure size 720x360 with 1 Axes>"
      ]
     },
     "metadata": {
      "needs_background": "light"
     },
     "output_type": "display_data"
    },
    {
     "data": {
      "image/png": "[encoded data removed]",
      "text/plain": [
       "<Figure size 720x360 with 1 Axes>"
      ]
     },
     "metadata": {
      "needs_background": "light"
     },
     "output_type": "display_data"
    },
    {
     "data": {
      "image/png": "[encoded data removed]",
      "text/plain": [
       "<Figure size 720x360 with 1 Axes>"
      ]
     },
     "metadata": {
      "needs_background": "light"
     },
     "output_type": "display_data"
    },
    {
     "data": {
      "image/png": "[encoded data removed]",
      "text/plain": [
       "<Figure size 720x360 with 1 Axes>"
      ]
     },
     "metadata": {
      "needs_background": "light"
     },
     "output_type": "display_data"
    }
   ],
   "source": [
    "for i in range(0,len(columns)):\n",
    "    fig = plt.figure(figsize=(10,5))\n",
    "    sns.boxplot(x=df[columns[i]])"
   ]
  },
  {
   "cell_type": "code",
   "execution_count": 5,
   "metadata": {},
   "outputs": [
    {
     "name": "stderr",
     "output_type": "stream",
     "text": [
      "/opt/anaconda3/lib/python3.8/site-packages/seaborn/distributions.py:2551: FutureWarning: `distplot` is a deprecated function and will be removed in a future version. Please adapt your code to use either `displot` (a figure-level function with similar flexibility) or `histplot` (an axes-level function for histograms).\n",
      "  warnings.warn(msg, FutureWarning)\n",
      "/opt/anaconda3/lib/python3.8/site-packages/seaborn/distributions.py:2551: FutureWarning: `distplot` is a deprecated function and will be removed in a future version. Please adapt your code to use either `displot` (a figure-level function with similar flexibility) or `histplot` (an axes-level function for histograms).\n",
      "  warnings.warn(msg, FutureWarning)\n",
      "/opt/anaconda3/lib/python3.8/site-packages/seaborn/distributions.py:2551: FutureWarning: `distplot` is a deprecated function and will be removed in a future version. Please adapt your code to use either `displot` (a figure-level function with similar flexibility) or `histplot` (an axes-level function for histograms).\n",
      "  warnings.warn(msg, FutureWarning)\n",
      "/opt/anaconda3/lib/python3.8/site-packages/seaborn/distributions.py:2551: FutureWarning: `distplot` is a deprecated function and will be removed in a future version. Please adapt your code to use either `displot` (a figure-level function with similar flexibility) or `histplot` (an axes-level function for histograms).\n",
      "  warnings.warn(msg, FutureWarning)\n",
      "/opt/anaconda3/lib/python3.8/site-packages/seaborn/distributions.py:2551: FutureWarning: `distplot` is a deprecated function and will be removed in a future version. Please adapt your code to use either `displot` (a figure-level function with similar flexibility) or `histplot` (an axes-level function for histograms).\n",
      "  warnings.warn(msg, FutureWarning)\n",
      "/opt/anaconda3/lib/python3.8/site-packages/seaborn/distributions.py:2551: FutureWarning: `distplot` is a deprecated function and will be removed in a future version. Please adapt your code to use either `displot` (a figure-level function with similar flexibility) or `histplot` (an axes-level function for histograms).\n",
      "  warnings.warn(msg, FutureWarning)\n",
      "/opt/anaconda3/lib/python3.8/site-packages/seaborn/distributions.py:2551: FutureWarning: `distplot` is a deprecated function and will be removed in a future version. Please adapt your code to use either `displot` (a figure-level function with similar flexibility) or `histplot` (an axes-level function for histograms).\n",
      "  warnings.warn(msg, FutureWarning)\n"
     ]
    },
    {
     "data": {
      "image/png": "[encoded data removed]",
      "text/plain": [
       "<Figure size 720x360 with 1 Axes>"
      ]
     },
     "metadata": {
      "needs_background": "light"
     },
     "output_type": "display_data"
    },
    {
     "data": {
      "image/png": "[encoded data removed]",
      "text/plain": [
       "<Figure size 720x360 with 1 Axes>"
      ]
     },
     "metadata": {
      "needs_background": "light"
     },
     "output_type": "display_data"
    },
    {
     "data": {
      "image/png": "[encoded data removed]",
      "text/plain": [
       "<Figure size 720x360 with 1 Axes>"
      ]
     },
     "metadata": {
      "needs_background": "light"
     },
     "output_type": "display_data"
    },
    {
     "data": {
      "image/png": "[encoded data removed]",
      "text/plain": [
       "<Figure size 720x360 with 1 Axes>"
      ]
     },
     "metadata": {
      "needs_background": "light"
     },
     "output_type": "display_data"
    },
    {
     "data": {
      "image/png": "[encoded data removed]",
      "text/plain": [
       "<Figure size 720x360 with 1 Axes>"
      ]
     },
     "metadata": {
      "needs_background": "light"
     },
     "output_type": "display_data"
    },
    {
     "data": {
      "image/png": "[encoded data removed]",
      "text/plain": [
       "<Figure size 720x360 with 1 Axes>"
      ]
     },
     "metadata": {
      "needs_background": "light"
     },
     "output_type": "display_data"
    },
    {
     "data": {
      "image/png": "[encoded data removed]",
      "text/plain": [
       "<Figure size 720x360 with 1 Axes>"
      ]
     },
     "metadata": {
      "needs_background": "light"
     },
     "output_type": "display_data"
    }
   ],
   "source": [
    "for i in range(0,len(columns)):\n",
    "    fig = plt.figure(figsize=(10,5))\n",
    "    sns.distplot(df[columns[i]])"
   ]
  },
  {
   "cell_type": "markdown",
   "metadata": {},
   "source": [
    "# For Gaussian Distribution we will calculate the boundaries which differentiates the outliers"
   ]
  },
  {
   "cell_type": "code",
   "execution_count": 6,
   "metadata": {},
   "outputs": [],
   "source": [
    "columns = ['apm','reaction_time','weight']"
   ]
  },
  {
   "cell_type": "code",
   "execution_count": 7,
   "metadata": {},
   "outputs": [
    {
     "name": "stdout",
     "output_type": "stream",
     "text": [
      "apm ; lower bound 104.84855331621807 ; upper bound 280.1594466837819 ; mean 192.504\n",
      "--------------------------------------------------------------------------------------------------\n",
      "reaction_time ; lower bound 208.54405547638484 ; upper bound 400.8139445236151 ; mean 304.679\n",
      "--------------------------------------------------------------------------------------------------\n",
      "weight ; lower bound 2.9215514315525297 ; upper bound 307.55444856844747 ; mean 155.238\n",
      "--------------------------------------------------------------------------------------------------\n"
     ]
    }
   ],
   "source": [
    "for i in df[columns]:\n",
    "    upper_boundary = df[i].mean() + 3* df[i].std()\n",
    "    lower_boundary = df[i].mean() - 3* df[i].std()\n",
    "    mean_val = df[i].mean()\n",
    "    print(i,'; lower bound',lower_boundary,'; upper bound',upper_boundary,'; mean',mean_val)\n",
    "    df.loc[df[i]>=upper_boundary,i]=mean_val\n",
    "    df.loc[df[i]<=lower_boundary,i]=mean_val\n",
    "    print('--------------------------------------------------------------------------------------------------')"
   ]
  },
  {
   "cell_type": "markdown",
   "metadata": {},
   "source": [
    "# If features are Skewed, we use IQR technique¶"
   ]
  },
  {
   "cell_type": "code",
   "execution_count": 8,
   "metadata": {},
   "outputs": [],
   "source": [
    "columns = ['income','height','gregariousness']"
   ]
  },
  {
   "cell_type": "code",
   "execution_count": 9,
   "metadata": {},
   "outputs": [
    {
     "name": "stdout",
     "output_type": "stream",
     "text": [
      "income ; quantile1 98.0 ; quantile3 107.0 ; IQR 9.0\n",
      "--------------------------------------------------------------------------------------------------\n",
      "height ; quantile1 175.0 ; quantile3 180.0 ; IQR 5.0\n",
      "--------------------------------------------------------------------------------------------------\n",
      "gregariousness ; quantile1 42.0 ; quantile3 56.0 ; IQR 14.0\n",
      "--------------------------------------------------------------------------------------------------\n"
     ]
    }
   ],
   "source": [
    "for i in df[columns]:\n",
    "    quantile1, quantile3= np.percentile(df[i],[25,75])\n",
    "    iqr_value=quantile3-quantile1\n",
    "    print(i,'; quantile1',quantile1,'; quantile3',quantile3,'; IQR',iqr_value)\n",
    "    lower_bound_val = quantile1 -(1.7 * iqr_value)\n",
    "    upper_bound_val = quantile3 +(1.7 * iqr_value)\n",
    "    df.loc[df[i]>=upper_bound_val,i]=df[i].mean()\n",
    "    df.loc[df[i]<=lower_bound_val,i]=df[i].mean()\n",
    "    print('--------------------------------------------------------------------------------------------------')"
   ]
  },
  {
   "cell_type": "markdown",
   "metadata": {},
   "source": [
    "# Performing Chi-Squared test for independence for categorical features"
   ]
  },
  {
   "cell_type": "markdown",
   "metadata": {},
   "source": [
    "**Null Hypothesis H0:** There is **no** relationship between 2 categorical features\n",
    "\n",
    "**Alternate Hypothesis H:** There is a relationship between 2 categorical features"
   ]
  },
  {
   "cell_type": "code",
   "execution_count": 10,
   "metadata": {},
   "outputs": [],
   "source": [
    "from scipy.stats import chi2_contingency\n",
    "from scipy.stats import chi2"
   ]
  },
  {
   "cell_type": "code",
   "execution_count": 11,
   "metadata": {},
   "outputs": [],
   "source": [
    "columns = ['favorite_pizza_topping_Not_NA','grade_Not_NA','city_Not_NA','favorite_ice_cream_flavor_Not_NA','company_Not_NA']"
   ]
  },
  {
   "cell_type": "code",
   "execution_count": 12,
   "metadata": {},
   "outputs": [
    {
     "name": "stdout",
     "output_type": "stream",
     "text": [
      "chi-square statistic : 299.47901499888997 p-value : 6.163167136594287e-53 degree of fredom : 18 Expected Values : [[31.49 15.51]\n",
      " [42.21 20.79]\n",
      " [14.74  7.26]\n",
      " [25.46 12.54]\n",
      " [12.73  6.27]\n",
      " [70.35 34.65]\n",
      " [ 9.38  4.62]\n",
      " [ 6.03  2.97]\n",
      " [65.66 32.34]\n",
      " [26.13 12.87]\n",
      " [25.46 12.54]\n",
      " [ 5.36  2.64]\n",
      " [38.19 18.81]\n",
      " [81.07 39.93]\n",
      " [56.28 27.72]\n",
      " [16.75  8.25]\n",
      " [59.63 29.37]\n",
      " [48.91 24.09]\n",
      " [34.17 16.83]]\n",
      "For favorite_pizza_topping_Not_NA : Rejecting H0, There is a relationship between 2 categorical features\n",
      "------------------------------------------------------------------------------------------------------\n",
      "chi-square statistic : 101.1398192720486 p-value : 1.0908556735133941e-22 degree of fredom : 2 Expected Values : [[ 71.69  35.31]\n",
      " [280.06 137.94]\n",
      " [318.25 156.75]]\n",
      "For grade_Not_NA : Rejecting H0, There is a relationship between 2 categorical features\n",
      "------------------------------------------------------------------------------------------------------\n",
      "chi-square statistic : 60.59790343262208 p-value : 6.939568422362791e-14 degree of fredom : 2 Expected Values : [[379.89 187.11]\n",
      " [ 62.98  31.02]\n",
      " [227.13 111.87]]\n",
      "For city_Not_NA : Rejecting H0, There is a relationship between 2 categorical features\n",
      "------------------------------------------------------------------------------------------------------\n",
      "chi-square statistic : 177.96288272279244 p-value : 1.675964249948631e-30 degree of fredom : 14 Expected Values : [[ 6.03  2.97]\n",
      " [30.15 14.85]\n",
      " [62.31 30.69]\n",
      " [45.56 22.44]\n",
      " [26.13 12.87]\n",
      " [70.35 34.65]\n",
      " [42.21 20.79]\n",
      " [42.21 20.79]\n",
      " [70.35 34.65]\n",
      " [20.1   9.9 ]\n",
      " [32.16 15.84]\n",
      " [82.41 40.59]\n",
      " [ 1.34  0.66]\n",
      " [50.92 25.08]\n",
      " [87.77 43.23]]\n",
      "For favorite_ice_cream_flavor_Not_NA : Rejecting H0, There is a relationship between 2 categorical features\n",
      "------------------------------------------------------------------------------------------------------\n",
      "chi-square statistic : 96.81191611392616 p-value : 9.496411485774997e-22 degree of fredom : 2 Expected Values : [[257.95 127.05]\n",
      " [383.24 188.76]\n",
      " [ 28.81  14.19]]\n",
      "For company_Not_NA : Rejecting H0, There is a relationship between 2 categorical features\n",
      "------------------------------------------------------------------------------------------------------\n"
     ]
    }
   ],
   "source": [
    "alpha = 0.05\n",
    "for feature in df[columns]:\n",
    "    myCrosstab = pd.crosstab(df[feature], df['churn'])\n",
    "    chiVal, pVal, degree, exp = chi2_contingency(myCrosstab)\n",
    "    print('chi-square statistic :',chiVal,'p-value :', pVal,'degree of fredom :',degree,'Expected Values :',exp)\n",
    "    if pVal<=alpha:\n",
    "        print(\"For\",feature,\": Rejecting H0, There is a relationship between 2 categorical features\")\n",
    "    else:\n",
    "        print(\"For\",feature,\": Failing to Reject H0, There is no relationship between 2 categorical features\")\n",
    "    print('------------------------------------------------------------------------------------------------------')"
   ]
  },
  {
   "cell_type": "markdown",
   "metadata": {},
   "source": [
    "# Performing t-test on numeric features"
   ]
  },
  {
   "cell_type": "markdown",
   "metadata": {},
   "source": [
    "**Null Hypothesis H0:** There is **no** relationship between 2 features\n",
    "\n",
    "**Alternate Hypothesis H:** There is a relationship between 2 features"
   ]
  },
  {
   "cell_type": "code",
   "execution_count": 13,
   "metadata": {},
   "outputs": [],
   "source": [
    "from scipy.stats import ttest_ind"
   ]
  },
  {
   "cell_type": "code",
   "execution_count": 14,
   "metadata": {},
   "outputs": [],
   "source": [
    "columns = ['apm','income','height','reaction_time','age','kappa_ability','weight','amount','gregariousness']"
   ]
  },
  {
   "cell_type": "code",
   "execution_count": 15,
   "metadata": {},
   "outputs": [
    {
     "name": "stdout",
     "output_type": "stream",
     "text": [
      "t-statistic : 210.19213310513334 p-value : 0.0\n",
      "For apm Rejecting H0, There is a relationship between 2 features\n",
      "-----------------------------------------------------------------------------------------\n",
      "t-statistic : 517.0987610818079 p-value : 0.0\n",
      "For income Rejecting H0, There is a relationship between 2 features\n",
      "-----------------------------------------------------------------------------------------\n",
      "t-statistic : 1290.9151987974203 p-value : 0.0\n",
      "For height Rejecting H0, There is a relationship between 2 features\n",
      "-----------------------------------------------------------------------------------------\n",
      "t-statistic : 305.25957782265664 p-value : 0.0\n",
      "For reaction_time Rejecting H0, There is a relationship between 2 features\n",
      "-----------------------------------------------------------------------------------------\n",
      "t-statistic : 95.95307268328571 p-value : 0.0\n",
      "For age Rejecting H0, There is a relationship between 2 features\n",
      "-----------------------------------------------------------------------------------------\n",
      "t-statistic : 31.35892888016644 p-value : 6.97614120258118e-176\n",
      "For kappa_ability Rejecting H0, There is a relationship between 2 features\n",
      "-----------------------------------------------------------------------------------------\n",
      "t-statistic : 723.7413483984376 p-value : 0.0\n",
      "For weight Rejecting H0, There is a relationship between 2 features\n",
      "-----------------------------------------------------------------------------------------\n",
      "t-statistic : 29.54962772984545 p-value : 1.592296866183066e-159\n",
      "For amount Rejecting H0, There is a relationship between 2 features\n",
      "-----------------------------------------------------------------------------------------\n",
      "t-statistic : 157.64387573950174 p-value : 0.0\n",
      "For gregariousness Rejecting H0, There is a relationship between 2 features\n",
      "-----------------------------------------------------------------------------------------\n"
     ]
    }
   ],
   "source": [
    "for feature in df[columns]:\n",
    "    t_value,p_value = stats.ttest_ind(df[feature], df['churn'], equal_var=True)\n",
    "    print('t-statistic :',t_value,'p-value :',p_value)\n",
    "    if p_value<=alpha:\n",
    "        print(\"For\",feature,\"Rejecting H0, There is a relationship between 2 features\")\n",
    "    else:\n",
    "        print(\"For\",feature,\"Failing to Reject H0, There is no relationship between 2 features\")\n",
    "    print('-----------------------------------------------------------------------------------------')"
   ]
  },
  {
   "cell_type": "markdown",
   "metadata": {},
   "source": [
    "# Handling Categorical features"
   ]
  },
  {
   "cell_type": "markdown",
   "metadata": {},
   "source": [
    "Ordinal Encoding for grade_Not_NA"
   ]
  },
  {
   "cell_type": "code",
   "execution_count": 16,
   "metadata": {},
   "outputs": [],
   "source": [
    "dictionary={'X':1,'Y':2,'Z':3}"
   ]
  },
  {
   "cell_type": "code",
   "execution_count": 17,
   "metadata": {},
   "outputs": [],
   "source": [
    "df['grade_ordinal'] = df['grade_Not_NA'].map(dictionary)"
   ]
  },
  {
   "cell_type": "code",
   "execution_count": 18,
   "metadata": {},
   "outputs": [],
   "source": [
    "df.drop(columns=['grade_Not_NA'], axis=1, inplace=True)"
   ]
  },
  {
   "cell_type": "code",
   "execution_count": 19,
   "metadata": {},
   "outputs": [
    {
     "data": {
      "text/html": [
       "<div>\n",
       "<style scoped>\n",
       "    .dataframe tbody tr th:only-of-type {\n",
       "        vertical-align: middle;\n",
       "    }\n",
       "\n",
       "    .dataframe tbody tr th {\n",
       "        vertical-align: top;\n",
       "    }\n",
       "\n",
       "    .dataframe thead th {\n",
       "        text-align: right;\n",
       "    }\n",
       "</style>\n",
       "<table border=\"1\" class=\"dataframe\">\n",
       "  <thead>\n",
       "    <tr style=\"text-align: right;\">\n",
       "      <th></th>\n",
       "      <th>user_id</th>\n",
       "      <th>apm</th>\n",
       "      <th>income</th>\n",
       "      <th>height</th>\n",
       "      <th>reaction_time</th>\n",
       "      <th>age</th>\n",
       "      <th>kappa_ability</th>\n",
       "      <th>weight</th>\n",
       "      <th>amount</th>\n",
       "      <th>gregariousness</th>\n",
       "      <th>favorite_pizza_topping_Not_NA</th>\n",
       "      <th>city_Not_NA</th>\n",
       "      <th>favorite_ice_cream_flavor_Not_NA</th>\n",
       "      <th>company_Not_NA</th>\n",
       "      <th>account_verified</th>\n",
       "      <th>product_use</th>\n",
       "      <th>product_visit</th>\n",
       "      <th>churn</th>\n",
       "      <th>grade_ordinal</th>\n",
       "    </tr>\n",
       "  </thead>\n",
       "  <tbody>\n",
       "    <tr>\n",
       "      <th>0</th>\n",
       "      <td>78389</td>\n",
       "      <td>154.0</td>\n",
       "      <td>100.0</td>\n",
       "      <td>176.000</td>\n",
       "      <td>353.0</td>\n",
       "      <td>47</td>\n",
       "      <td>6291</td>\n",
       "      <td>149.000</td>\n",
       "      <td>10</td>\n",
       "      <td>48.0</td>\n",
       "      <td>Pineapple</td>\n",
       "      <td>A-town</td>\n",
       "      <td>Red Velvet</td>\n",
       "      <td>Pause Associates</td>\n",
       "      <td>0</td>\n",
       "      <td>23</td>\n",
       "      <td>91</td>\n",
       "      <td>0</td>\n",
       "      <td>3</td>\n",
       "    </tr>\n",
       "    <tr>\n",
       "      <th>1</th>\n",
       "      <td>79235</td>\n",
       "      <td>193.0</td>\n",
       "      <td>95.0</td>\n",
       "      <td>182.000</td>\n",
       "      <td>250.0</td>\n",
       "      <td>20</td>\n",
       "      <td>4765</td>\n",
       "      <td>155.238</td>\n",
       "      <td>19</td>\n",
       "      <td>62.0</td>\n",
       "      <td>Ham</td>\n",
       "      <td>C-borough</td>\n",
       "      <td>Red Velvet</td>\n",
       "      <td>Go LLC</td>\n",
       "      <td>7</td>\n",
       "      <td>35</td>\n",
       "      <td>44</td>\n",
       "      <td>0</td>\n",
       "      <td>2</td>\n",
       "    </tr>\n",
       "    <tr>\n",
       "      <th>2</th>\n",
       "      <td>78816</td>\n",
       "      <td>180.0</td>\n",
       "      <td>97.0</td>\n",
       "      <td>177.000</td>\n",
       "      <td>311.0</td>\n",
       "      <td>67</td>\n",
       "      <td>4360</td>\n",
       "      <td>145.000</td>\n",
       "      <td>41</td>\n",
       "      <td>57.0</td>\n",
       "      <td>Pineapple</td>\n",
       "      <td>A-town</td>\n",
       "      <td>Strawberry</td>\n",
       "      <td>Pause Associates</td>\n",
       "      <td>0</td>\n",
       "      <td>0</td>\n",
       "      <td>81</td>\n",
       "      <td>0</td>\n",
       "      <td>3</td>\n",
       "    </tr>\n",
       "    <tr>\n",
       "      <th>3</th>\n",
       "      <td>78961</td>\n",
       "      <td>168.0</td>\n",
       "      <td>99.0</td>\n",
       "      <td>184.000</td>\n",
       "      <td>320.0</td>\n",
       "      <td>48</td>\n",
       "      <td>3663</td>\n",
       "      <td>148.000</td>\n",
       "      <td>105</td>\n",
       "      <td>43.0</td>\n",
       "      <td>Black olives</td>\n",
       "      <td>A-town</td>\n",
       "      <td>Peach</td>\n",
       "      <td>Pause Associates</td>\n",
       "      <td>0</td>\n",
       "      <td>0</td>\n",
       "      <td>83</td>\n",
       "      <td>0</td>\n",
       "      <td>3</td>\n",
       "    </tr>\n",
       "    <tr>\n",
       "      <th>4</th>\n",
       "      <td>78427</td>\n",
       "      <td>207.0</td>\n",
       "      <td>105.0</td>\n",
       "      <td>190.382</td>\n",
       "      <td>329.0</td>\n",
       "      <td>35</td>\n",
       "      <td>149</td>\n",
       "      <td>146.000</td>\n",
       "      <td>53</td>\n",
       "      <td>58.0</td>\n",
       "      <td>Red peppers</td>\n",
       "      <td>A-town</td>\n",
       "      <td>Red Velvet</td>\n",
       "      <td>Pause Associates</td>\n",
       "      <td>0</td>\n",
       "      <td>28</td>\n",
       "      <td>20</td>\n",
       "      <td>0</td>\n",
       "      <td>1</td>\n",
       "    </tr>\n",
       "  </tbody>\n",
       "</table>\n",
       "</div>"
      ],
      "text/plain": [
       "   user_id    apm  income   height  reaction_time  age  kappa_ability  \\\n",
       "0    78389  154.0   100.0  176.000          353.0   47           6291   \n",
       "1    79235  193.0    95.0  182.000          250.0   20           4765   \n",
       "2    78816  180.0    97.0  177.000          311.0   67           4360   \n",
       "3    78961  168.0    99.0  184.000          320.0   48           3663   \n",
       "4    78427  207.0   105.0  190.382          329.0   35            149   \n",
       "\n",
       "    weight  amount  gregariousness favorite_pizza_topping_Not_NA city_Not_NA  \\\n",
       "0  149.000      10            48.0                     Pineapple      A-town   \n",
       "1  155.238      19            62.0                           Ham   C-borough   \n",
       "2  145.000      41            57.0                     Pineapple      A-town   \n",
       "3  148.000     105            43.0                  Black olives      A-town   \n",
       "4  146.000      53            58.0                   Red peppers      A-town   \n",
       "\n",
       "  favorite_ice_cream_flavor_Not_NA    company_Not_NA  account_verified  \\\n",
       "0                       Red Velvet  Pause Associates                 0   \n",
       "1                       Red Velvet            Go LLC                 7   \n",
       "2                       Strawberry  Pause Associates                 0   \n",
       "3                            Peach  Pause Associates                 0   \n",
       "4                       Red Velvet  Pause Associates                 0   \n",
       "\n",
       "   product_use  product_visit  churn  grade_ordinal  \n",
       "0           23             91      0              3  \n",
       "1           35             44      0              2  \n",
       "2            0             81      0              3  \n",
       "3            0             83      0              3  \n",
       "4           28             20      0              1  "
      ]
     },
     "execution_count": 19,
     "metadata": {},
     "output_type": "execute_result"
    }
   ],
   "source": [
    "df.head()"
   ]
  },
  {
   "cell_type": "markdown",
   "metadata": {},
   "source": [
    "LabelEncoding "
   ]
  },
  {
   "cell_type": "code",
   "execution_count": 20,
   "metadata": {},
   "outputs": [],
   "source": [
    "df_label = df.copy()"
   ]
  },
  {
   "cell_type": "code",
   "execution_count": 21,
   "metadata": {},
   "outputs": [],
   "source": [
    "from sklearn.preprocessing import LabelEncoder\n",
    "from sklearn.pipeline import Pipeline"
   ]
  },
  {
   "cell_type": "code",
   "execution_count": 22,
   "metadata": {},
   "outputs": [],
   "source": [
    "class MultiColumnLabelEncoder:\n",
    "    def __init__(self,columns = None):\n",
    "        self.columns = columns # array of column names to encode\n",
    "\n",
    "    def fit(self,X,y=None):\n",
    "        return self # not relevant here\n",
    "\n",
    "    def transform(self,X):\n",
    "        '''\n",
    "        Transforms columns of X specified in self.columns using\n",
    "        LabelEncoder(). If no columns specified, transforms all\n",
    "        columns in X.\n",
    "        '''\n",
    "        output = X.copy()\n",
    "        if self.columns is not None:\n",
    "            for col in self.columns:\n",
    "                output[col] = LabelEncoder().fit_transform(output[col])\n",
    "        else:\n",
    "            for colname,col in output.iteritems():\n",
    "                output[colname] = LabelEncoder().fit_transform(col)\n",
    "        return output\n",
    "\n",
    "    def fit_transform(self,X,y=None):\n",
    "        return self.fit(X,y).transform(X)"
   ]
  },
  {
   "cell_type": "code",
   "execution_count": 23,
   "metadata": {},
   "outputs": [],
   "source": [
    "df_label = MultiColumnLabelEncoder(columns = ['favorite_pizza_topping_Not_NA','city_Not_NA','favorite_ice_cream_flavor_Not_NA','company_Not_NA']).fit_transform(df_label)"
   ]
  },
  {
   "cell_type": "code",
   "execution_count": 24,
   "metadata": {},
   "outputs": [
    {
     "data": {
      "text/html": [
       "<div>\n",
       "<style scoped>\n",
       "    .dataframe tbody tr th:only-of-type {\n",
       "        vertical-align: middle;\n",
       "    }\n",
       "\n",
       "    .dataframe tbody tr th {\n",
       "        vertical-align: top;\n",
       "    }\n",
       "\n",
       "    .dataframe thead th {\n",
       "        text-align: right;\n",
       "    }\n",
       "</style>\n",
       "<table border=\"1\" class=\"dataframe\">\n",
       "  <thead>\n",
       "    <tr style=\"text-align: right;\">\n",
       "      <th></th>\n",
       "      <th>user_id</th>\n",
       "      <th>apm</th>\n",
       "      <th>income</th>\n",
       "      <th>height</th>\n",
       "      <th>reaction_time</th>\n",
       "      <th>age</th>\n",
       "      <th>kappa_ability</th>\n",
       "      <th>weight</th>\n",
       "      <th>amount</th>\n",
       "      <th>gregariousness</th>\n",
       "      <th>favorite_pizza_topping_Not_NA</th>\n",
       "      <th>city_Not_NA</th>\n",
       "      <th>favorite_ice_cream_flavor_Not_NA</th>\n",
       "      <th>company_Not_NA</th>\n",
       "      <th>account_verified</th>\n",
       "      <th>product_use</th>\n",
       "      <th>product_visit</th>\n",
       "      <th>churn</th>\n",
       "      <th>grade_ordinal</th>\n",
       "    </tr>\n",
       "  </thead>\n",
       "  <tbody>\n",
       "    <tr>\n",
       "      <th>0</th>\n",
       "      <td>78389</td>\n",
       "      <td>154.0</td>\n",
       "      <td>100.0</td>\n",
       "      <td>176.000</td>\n",
       "      <td>353.0</td>\n",
       "      <td>47</td>\n",
       "      <td>6291</td>\n",
       "      <td>149.000</td>\n",
       "      <td>10</td>\n",
       "      <td>48.0</td>\n",
       "      <td>13</td>\n",
       "      <td>0</td>\n",
       "      <td>11</td>\n",
       "      <td>1</td>\n",
       "      <td>0</td>\n",
       "      <td>23</td>\n",
       "      <td>91</td>\n",
       "      <td>0</td>\n",
       "      <td>3</td>\n",
       "    </tr>\n",
       "    <tr>\n",
       "      <th>1</th>\n",
       "      <td>79235</td>\n",
       "      <td>193.0</td>\n",
       "      <td>95.0</td>\n",
       "      <td>182.000</td>\n",
       "      <td>250.0</td>\n",
       "      <td>20</td>\n",
       "      <td>4765</td>\n",
       "      <td>155.238</td>\n",
       "      <td>19</td>\n",
       "      <td>62.0</td>\n",
       "      <td>8</td>\n",
       "      <td>2</td>\n",
       "      <td>11</td>\n",
       "      <td>0</td>\n",
       "      <td>7</td>\n",
       "      <td>35</td>\n",
       "      <td>44</td>\n",
       "      <td>0</td>\n",
       "      <td>2</td>\n",
       "    </tr>\n",
       "    <tr>\n",
       "      <th>2</th>\n",
       "      <td>78816</td>\n",
       "      <td>180.0</td>\n",
       "      <td>97.0</td>\n",
       "      <td>177.000</td>\n",
       "      <td>311.0</td>\n",
       "      <td>67</td>\n",
       "      <td>4360</td>\n",
       "      <td>145.000</td>\n",
       "      <td>41</td>\n",
       "      <td>57.0</td>\n",
       "      <td>13</td>\n",
       "      <td>0</td>\n",
       "      <td>13</td>\n",
       "      <td>1</td>\n",
       "      <td>0</td>\n",
       "      <td>0</td>\n",
       "      <td>81</td>\n",
       "      <td>0</td>\n",
       "      <td>3</td>\n",
       "    </tr>\n",
       "    <tr>\n",
       "      <th>3</th>\n",
       "      <td>78961</td>\n",
       "      <td>168.0</td>\n",
       "      <td>99.0</td>\n",
       "      <td>184.000</td>\n",
       "      <td>320.0</td>\n",
       "      <td>48</td>\n",
       "      <td>3663</td>\n",
       "      <td>148.000</td>\n",
       "      <td>105</td>\n",
       "      <td>43.0</td>\n",
       "      <td>3</td>\n",
       "      <td>0</td>\n",
       "      <td>9</td>\n",
       "      <td>1</td>\n",
       "      <td>0</td>\n",
       "      <td>0</td>\n",
       "      <td>83</td>\n",
       "      <td>0</td>\n",
       "      <td>3</td>\n",
       "    </tr>\n",
       "    <tr>\n",
       "      <th>4</th>\n",
       "      <td>78427</td>\n",
       "      <td>207.0</td>\n",
       "      <td>105.0</td>\n",
       "      <td>190.382</td>\n",
       "      <td>329.0</td>\n",
       "      <td>35</td>\n",
       "      <td>149</td>\n",
       "      <td>146.000</td>\n",
       "      <td>53</td>\n",
       "      <td>58.0</td>\n",
       "      <td>14</td>\n",
       "      <td>0</td>\n",
       "      <td>11</td>\n",
       "      <td>1</td>\n",
       "      <td>0</td>\n",
       "      <td>28</td>\n",
       "      <td>20</td>\n",
       "      <td>0</td>\n",
       "      <td>1</td>\n",
       "    </tr>\n",
       "  </tbody>\n",
       "</table>\n",
       "</div>"
      ],
      "text/plain": [
       "   user_id    apm  income   height  reaction_time  age  kappa_ability  \\\n",
       "0    78389  154.0   100.0  176.000          353.0   47           6291   \n",
       "1    79235  193.0    95.0  182.000          250.0   20           4765   \n",
       "2    78816  180.0    97.0  177.000          311.0   67           4360   \n",
       "3    78961  168.0    99.0  184.000          320.0   48           3663   \n",
       "4    78427  207.0   105.0  190.382          329.0   35            149   \n",
       "\n",
       "    weight  amount  gregariousness  favorite_pizza_topping_Not_NA  \\\n",
       "0  149.000      10            48.0                             13   \n",
       "1  155.238      19            62.0                              8   \n",
       "2  145.000      41            57.0                             13   \n",
       "3  148.000     105            43.0                              3   \n",
       "4  146.000      53            58.0                             14   \n",
       "\n",
       "   city_Not_NA  favorite_ice_cream_flavor_Not_NA  company_Not_NA  \\\n",
       "0            0                                11               1   \n",
       "1            2                                11               0   \n",
       "2            0                                13               1   \n",
       "3            0                                 9               1   \n",
       "4            0                                11               1   \n",
       "\n",
       "   account_verified  product_use  product_visit  churn  grade_ordinal  \n",
       "0                 0           23             91      0              3  \n",
       "1                 7           35             44      0              2  \n",
       "2                 0            0             81      0              3  \n",
       "3                 0            0             83      0              3  \n",
       "4                 0           28             20      0              1  "
      ]
     },
     "execution_count": 24,
     "metadata": {},
     "output_type": "execute_result"
    }
   ],
   "source": [
    "df_label.head()"
   ]
  },
  {
   "cell_type": "markdown",
   "metadata": {},
   "source": [
    "One Hot Encoding for city, company, favorite_pizza_topping and favorite_ice_cream_flavor"
   ]
  },
  {
   "cell_type": "code",
   "execution_count": 25,
   "metadata": {},
   "outputs": [],
   "source": [
    "df_oneHot = df.copy()"
   ]
  },
  {
   "cell_type": "code",
   "execution_count": 26,
   "metadata": {},
   "outputs": [],
   "source": [
    "def category_onehot_multcols(multcolumns):\n",
    "    df_final=df\n",
    "    i=0\n",
    "    for fields in multcolumns:\n",
    "        \n",
    "        print(fields)\n",
    "        df1=pd.get_dummies(df[fields],drop_first=True)\n",
    "        \n",
    "        df.drop([fields],axis=1,inplace=True)\n",
    "        if i==0:\n",
    "            df_final=df1.copy()\n",
    "        else:\n",
    "            \n",
    "            df_final=pd.concat([df_final,df1],axis=1)\n",
    "        i=i+1\n",
    "       \n",
    "        \n",
    "    df_final=pd.concat([df,df_final],axis=1)\n",
    "        \n",
    "    return df_final"
   ]
  },
  {
   "cell_type": "code",
   "execution_count": 27,
   "metadata": {},
   "outputs": [],
   "source": [
    "columns=['favorite_pizza_topping_Not_NA','city_Not_NA','favorite_ice_cream_flavor_Not_NA','company_Not_NA']"
   ]
  },
  {
   "cell_type": "code",
   "execution_count": 28,
   "metadata": {},
   "outputs": [
    {
     "name": "stdout",
     "output_type": "stream",
     "text": [
      "favorite_pizza_topping_Not_NA\n",
      "city_Not_NA\n",
      "favorite_ice_cream_flavor_Not_NA\n",
      "company_Not_NA\n"
     ]
    }
   ],
   "source": [
    "df_oneHot = category_onehot_multcols(columns)"
   ]
  },
  {
   "cell_type": "code",
   "execution_count": 29,
   "metadata": {},
   "outputs": [
    {
     "data": {
      "text/plain": [
       "(1000, 51)"
      ]
     },
     "execution_count": 29,
     "metadata": {},
     "output_type": "execute_result"
    }
   ],
   "source": [
    "df_oneHot.shape"
   ]
  },
  {
   "cell_type": "code",
   "execution_count": 30,
   "metadata": {},
   "outputs": [
    {
     "data": {
      "text/plain": [
       "(1000, 51)"
      ]
     },
     "execution_count": 30,
     "metadata": {},
     "output_type": "execute_result"
    }
   ],
   "source": [
    "df_oneHot =df_oneHot.loc[:,~df_oneHot.columns.duplicated()]\n",
    "df_oneHot.shape"
   ]
  },
  {
   "cell_type": "markdown",
   "metadata": {},
   "source": [
    "# Feature selection"
   ]
  },
  {
   "cell_type": "markdown",
   "metadata": {},
   "source": [
    "Checking for highly correlated features with target"
   ]
  },
  {
   "cell_type": "code",
   "execution_count": 31,
   "metadata": {},
   "outputs": [],
   "source": [
    "df_corr = df_label.copy()"
   ]
  },
  {
   "cell_type": "code",
   "execution_count": 32,
   "metadata": {},
   "outputs": [
    {
     "data": {
      "text/plain": [
       "churn                               1.000000\n",
       "weight                              0.771182\n",
       "income                              0.749150\n",
       "company_Not_NA                      0.296903\n",
       "grade_ordinal                       0.294183\n",
       "apm                                 0.287297\n",
       "reaction_time                       0.264991\n",
       "favorite_ice_cream_flavor_Not_NA    0.168701\n",
       "gregariousness                      0.162201\n",
       "height                              0.126689\n",
       "kappa_ability                       0.054176\n",
       "amount                              0.053815\n",
       "account_verified                    0.045079\n",
       "favorite_pizza_topping_Not_NA       0.036305\n",
       "age                                 0.036268\n",
       "city_Not_NA                         0.033967\n",
       "product_visit                       0.030304\n",
       "product_use                         0.021732\n",
       "user_id                             0.021711\n",
       "Name: churn, dtype: float64"
      ]
     },
     "execution_count": 32,
     "metadata": {},
     "output_type": "execute_result"
    }
   ],
   "source": [
    "abs(df_corr.corr()['churn']).sort_values(ascending=False)"
   ]
  },
  {
   "cell_type": "markdown",
   "metadata": {},
   "source": [
    "Feature importance with Random forest"
   ]
  },
  {
   "cell_type": "code",
   "execution_count": 33,
   "metadata": {},
   "outputs": [],
   "source": [
    "df_fs = df_label.copy()"
   ]
  },
  {
   "cell_type": "code",
   "execution_count": 34,
   "metadata": {},
   "outputs": [],
   "source": [
    "X = df_fs.drop(['churn'], axis=1)\n",
    "y = df_fs['churn']"
   ]
  },
  {
   "cell_type": "code",
   "execution_count": 35,
   "metadata": {},
   "outputs": [],
   "source": [
    "from sklearn.model_selection import train_test_split\n",
    "from sklearn.ensemble import RandomForestClassifier"
   ]
  },
  {
   "cell_type": "code",
   "execution_count": 36,
   "metadata": {},
   "outputs": [],
   "source": [
    "X_train, X_test, y_train, y_test = train_test_split(X, y, stratify=y, random_state=42)"
   ]
  },
  {
   "cell_type": "code",
   "execution_count": 37,
   "metadata": {},
   "outputs": [
    {
     "data": {
      "text/plain": [
       "RandomForestClassifier()"
      ]
     },
     "execution_count": 37,
     "metadata": {},
     "output_type": "execute_result"
    }
   ],
   "source": [
    "feature_names = [f'feature {i}' for i in range(X.shape[1])]\n",
    "rf = RandomForestClassifier(n_estimators=100)\n",
    "rf.fit(X_train, y_train)"
   ]
  },
  {
   "cell_type": "code",
   "execution_count": 38,
   "metadata": {},
   "outputs": [
    {
     "data": {
      "text/plain": [
       "{0.3577913387864: 'weight',\n",
       " 0.3428432122679986: 'income',\n",
       " 0.04217889317750471: 'apm',\n",
       " 0.03986886813508089: 'reaction_time',\n",
       " 0.02372121789124363: 'favorite_pizza_topping_Not_NA',\n",
       " 0.022977625981506156: 'gregariousness',\n",
       " 0.022776487207298322: 'grade_ordinal',\n",
       " 0.018324769870362877: 'company_Not_NA',\n",
       " 0.017777436172283723: 'favorite_ice_cream_flavor_Not_NA',\n",
       " 0.017005644992322804: 'user_id',\n",
       " 0.016710164856931196: 'kappa_ability',\n",
       " 0.016440180594305933: 'amount',\n",
       " 0.015523513483556085: 'product_visit',\n",
       " 0.01551073517912069: 'age',\n",
       " 0.01507614113834814: 'height',\n",
       " 0.0063993603493515926: 'product_use',\n",
       " 0.004814901722145716: 'account_verified',\n",
       " 0.004259508194239021: 'city_Not_NA'}"
      ]
     },
     "execution_count": 38,
     "metadata": {},
     "output_type": "execute_result"
    }
   ],
   "source": [
    "dict(reversed(sorted(zip(rf.feature_importances_, X.columns.values))))"
   ]
  },
  {
   "cell_type": "code",
   "execution_count": 39,
   "metadata": {
    "scrolled": true
   },
   "outputs": [
    {
     "data": {
      "image/png": "[encoded data removed]",
      "text/plain": [
       "<Figure size 432x288 with 1 Axes>"
      ]
     },
     "metadata": {
      "needs_background": "light"
     },
     "output_type": "display_data"
    }
   ],
   "source": [
    "features = X.columns\n",
    "importances = rf.feature_importances_\n",
    "indices = np.argsort(importances)[-9:]  # top 10 features\n",
    "plt.title('Feature Importances')\n",
    "plt.barh(range(len(indices)), importances[indices], color='b', align='center')\n",
    "plt.yticks(range(len(indices)), [features[i] for i in indices])\n",
    "plt.xlabel('Relative Importance')\n",
    "plt.show()"
   ]
  },
  {
   "cell_type": "code",
   "execution_count": 40,
   "metadata": {},
   "outputs": [],
   "source": [
    "df_oneHot.to_csv('Modelling_Customer_churn.csv', encoding='utf-8', index=False)"
   ]
  }
 ],
 "metadata": {
  "kernelspec": {
   "display_name": "Python 3",
   "language": "python",
   "name": "python3"
  },
  "language_info": {
   "codemirror_mode": {
    "name": "ipython",
    "version": 3
   },
   "file_extension": ".py",
   "mimetype": "text/x-python",
   "name": "python",
   "nbconvert_exporter": "python",
   "pygments_lexer": "ipython3",
   "version": "3.8.5"
  }
 },
 "nbformat": 4,
 "nbformat_minor": 4
}
